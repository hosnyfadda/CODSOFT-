{
 "cells": [
  {
   "cell_type": "markdown",
   "id": "1951bd79",
   "metadata": {
    "_cell_guid": "b1076dfc-b9ad-4769-8c92-a6c4dae69d19",
    "_uuid": "8f2839f25d086af736a60e9eeb907d3b93b6e0e5",
    "papermill": {
     "duration": 0.005424,
     "end_time": "2025-02-04T12:10:19.786733",
     "exception": false,
     "start_time": "2025-02-04T12:10:19.781309",
     "status": "completed"
    },
    "tags": []
   },
   "source": [
    "# Using Linear Regression for Classification with One-Hot Encoding"
   ]
  },
  {
   "cell_type": "code",
   "execution_count": 1,
   "id": "407c30cc",
   "metadata": {
    "execution": {
     "iopub.execute_input": "2025-02-04T12:10:19.798219Z",
     "iopub.status.busy": "2025-02-04T12:10:19.797348Z",
     "iopub.status.idle": "2025-02-04T12:10:25.442750Z",
     "shell.execute_reply": "2025-02-04T12:10:25.441421Z"
    },
    "papermill": {
     "duration": 5.6533,
     "end_time": "2025-02-04T12:10:25.444854",
     "exception": false,
     "start_time": "2025-02-04T12:10:19.791554",
     "status": "completed"
    },
    "tags": []
   },
   "outputs": [],
   "source": [
    "# Standard imports \n",
    "import numpy as np\n",
    "import pandas as pd\n",
    "import matplotlib.pyplot as plt\n",
    "import seaborn as sns\n",
    "import statsmodels.api as sm\n",
    "\n",
    "# Required for modeling and evaluation\n",
    "from sklearn.linear_model import LinearRegression, LogisticRegression\n",
    "from sklearn.model_selection import train_test_split\n",
    "from sklearn.preprocessing import OneHotEncoder\n",
    "from sklearn.metrics import accuracy_score, confusion_matrix, precision_score, recall_score, mean_squared_error, classification_report"
   ]
  },
  {
   "cell_type": "markdown",
   "id": "ef5a5877",
   "metadata": {
    "papermill": {
     "duration": 0.004831,
     "end_time": "2025-02-04T12:10:25.454844",
     "exception": false,
     "start_time": "2025-02-04T12:10:25.450013",
     "status": "completed"
    },
    "tags": []
   },
   "source": [
    "### 1. Dataset Selection and Preparation\n",
    "\n",
    "The dataset is originated from a U.S. bank and the model goal will be to predict if a particular customer will leave the bank or not.\n",
    "\n",
    "- **Total Observations**: 10,000 (79.6% of the customers don't leave the bank and 20.4% will leave)\n",
    "- **Features**:\n",
    "  1. `CreditScore`: It ranges from 350 (poor) to 850 (excellent).\n",
    "  2. `Geography`: 3 countries ('France' 'Spain' 'Germany'), we will perform One-Hot Encoding.\n",
    "  3. `Gender`: Female or Male, we will encode with a binary label.\n",
    "  4. `Age`: Age of the customer.\n",
    "  5. `Tenure`: Number of years being a customer of the bank.\n",
    "  6. `Balance`: Amount of euros in the bank.\n",
    "  7. `NumOfProducts`: Number of products contracted with the bank.\n",
    "  8. `HasCrCard`: Credit card indicator. Has a card = 1.\n",
    "  9. `IsActiveMember`: Active member indicator. Is Active = 1\n",
    "  10. `EstimatedSalary`: Estimated salary in euros.   \n",
    ".\n",
    "- **Label**:\n",
    "\n",
    "    Each sample in the dataset is labelled with the Exited status of the customer in binary.\n",
    "\n",
    "    `Not Exited` = 0   \n",
    "    `Exited` = 1"
   ]
  },
  {
   "cell_type": "code",
   "execution_count": 2,
   "id": "150bdd33",
   "metadata": {
    "execution": {
     "iopub.execute_input": "2025-02-04T12:10:25.466925Z",
     "iopub.status.busy": "2025-02-04T12:10:25.466337Z",
     "iopub.status.idle": "2025-02-04T12:10:25.518572Z",
     "shell.execute_reply": "2025-02-04T12:10:25.517475Z"
    },
    "papermill": {
     "duration": 0.060392,
     "end_time": "2025-02-04T12:10:25.520742",
     "exception": false,
     "start_time": "2025-02-04T12:10:25.460350",
     "status": "completed"
    },
    "tags": []
   },
   "outputs": [],
   "source": [
    "loan_data = pd.read_csv('/kaggle/input/bank-customer-churn-prediction/Churn_Modelling.csv')"
   ]
  },
  {
   "cell_type": "code",
   "execution_count": 3,
   "id": "a3bd3f27",
   "metadata": {
    "execution": {
     "iopub.execute_input": "2025-02-04T12:10:25.531916Z",
     "iopub.status.busy": "2025-02-04T12:10:25.531508Z",
     "iopub.status.idle": "2025-02-04T12:10:25.564158Z",
     "shell.execute_reply": "2025-02-04T12:10:25.562985Z"
    },
    "papermill": {
     "duration": 0.040234,
     "end_time": "2025-02-04T12:10:25.566042",
     "exception": false,
     "start_time": "2025-02-04T12:10:25.525808",
     "status": "completed"
    },
    "tags": []
   },
   "outputs": [
    {
     "data": {
      "text/html": [
       "<div>\n",
       "<style scoped>\n",
       "    .dataframe tbody tr th:only-of-type {\n",
       "        vertical-align: middle;\n",
       "    }\n",
       "\n",
       "    .dataframe tbody tr th {\n",
       "        vertical-align: top;\n",
       "    }\n",
       "\n",
       "    .dataframe thead th {\n",
       "        text-align: right;\n",
       "    }\n",
       "</style>\n",
       "<table border=\"1\" class=\"dataframe\">\n",
       "  <thead>\n",
       "    <tr style=\"text-align: right;\">\n",
       "      <th></th>\n",
       "      <th>RowNumber</th>\n",
       "      <th>CustomerId</th>\n",
       "      <th>Surname</th>\n",
       "      <th>CreditScore</th>\n",
       "      <th>Geography</th>\n",
       "      <th>Gender</th>\n",
       "      <th>Age</th>\n",
       "      <th>Tenure</th>\n",
       "      <th>Balance</th>\n",
       "      <th>NumOfProducts</th>\n",
       "      <th>HasCrCard</th>\n",
       "      <th>IsActiveMember</th>\n",
       "      <th>EstimatedSalary</th>\n",
       "      <th>Exited</th>\n",
       "    </tr>\n",
       "  </thead>\n",
       "  <tbody>\n",
       "    <tr>\n",
       "      <th>0</th>\n",
       "      <td>1</td>\n",
       "      <td>15634602</td>\n",
       "      <td>Hargrave</td>\n",
       "      <td>619</td>\n",
       "      <td>France</td>\n",
       "      <td>Female</td>\n",
       "      <td>42</td>\n",
       "      <td>2</td>\n",
       "      <td>0.00</td>\n",
       "      <td>1</td>\n",
       "      <td>1</td>\n",
       "      <td>1</td>\n",
       "      <td>101348.88</td>\n",
       "      <td>1</td>\n",
       "    </tr>\n",
       "    <tr>\n",
       "      <th>1</th>\n",
       "      <td>2</td>\n",
       "      <td>15647311</td>\n",
       "      <td>Hill</td>\n",
       "      <td>608</td>\n",
       "      <td>Spain</td>\n",
       "      <td>Female</td>\n",
       "      <td>41</td>\n",
       "      <td>1</td>\n",
       "      <td>83807.86</td>\n",
       "      <td>1</td>\n",
       "      <td>0</td>\n",
       "      <td>1</td>\n",
       "      <td>112542.58</td>\n",
       "      <td>0</td>\n",
       "    </tr>\n",
       "    <tr>\n",
       "      <th>2</th>\n",
       "      <td>3</td>\n",
       "      <td>15619304</td>\n",
       "      <td>Onio</td>\n",
       "      <td>502</td>\n",
       "      <td>France</td>\n",
       "      <td>Female</td>\n",
       "      <td>42</td>\n",
       "      <td>8</td>\n",
       "      <td>159660.80</td>\n",
       "      <td>3</td>\n",
       "      <td>1</td>\n",
       "      <td>0</td>\n",
       "      <td>113931.57</td>\n",
       "      <td>1</td>\n",
       "    </tr>\n",
       "    <tr>\n",
       "      <th>3</th>\n",
       "      <td>4</td>\n",
       "      <td>15701354</td>\n",
       "      <td>Boni</td>\n",
       "      <td>699</td>\n",
       "      <td>France</td>\n",
       "      <td>Female</td>\n",
       "      <td>39</td>\n",
       "      <td>1</td>\n",
       "      <td>0.00</td>\n",
       "      <td>2</td>\n",
       "      <td>0</td>\n",
       "      <td>0</td>\n",
       "      <td>93826.63</td>\n",
       "      <td>0</td>\n",
       "    </tr>\n",
       "    <tr>\n",
       "      <th>4</th>\n",
       "      <td>5</td>\n",
       "      <td>15737888</td>\n",
       "      <td>Mitchell</td>\n",
       "      <td>850</td>\n",
       "      <td>Spain</td>\n",
       "      <td>Female</td>\n",
       "      <td>43</td>\n",
       "      <td>2</td>\n",
       "      <td>125510.82</td>\n",
       "      <td>1</td>\n",
       "      <td>1</td>\n",
       "      <td>1</td>\n",
       "      <td>79084.10</td>\n",
       "      <td>0</td>\n",
       "    </tr>\n",
       "  </tbody>\n",
       "</table>\n",
       "</div>"
      ],
      "text/plain": [
       "   RowNumber  CustomerId   Surname  CreditScore Geography  Gender  Age  \\\n",
       "0          1    15634602  Hargrave          619    France  Female   42   \n",
       "1          2    15647311      Hill          608     Spain  Female   41   \n",
       "2          3    15619304      Onio          502    France  Female   42   \n",
       "3          4    15701354      Boni          699    France  Female   39   \n",
       "4          5    15737888  Mitchell          850     Spain  Female   43   \n",
       "\n",
       "   Tenure    Balance  NumOfProducts  HasCrCard  IsActiveMember  \\\n",
       "0       2       0.00              1          1               1   \n",
       "1       1   83807.86              1          0               1   \n",
       "2       8  159660.80              3          1               0   \n",
       "3       1       0.00              2          0               0   \n",
       "4       2  125510.82              1          1               1   \n",
       "\n",
       "   EstimatedSalary  Exited  \n",
       "0        101348.88       1  \n",
       "1        112542.58       0  \n",
       "2        113931.57       1  \n",
       "3         93826.63       0  \n",
       "4         79084.10       0  "
      ]
     },
     "execution_count": 3,
     "metadata": {},
     "output_type": "execute_result"
    }
   ],
   "source": [
    "#Exploratory Data Analysis\n",
    "loan_data.head()\n",
    "#loan_data.describe()\n",
    "#loan_data['Exited'].value_counts(normalize=True)\n",
    "#sns.pairplot(loan_data, diag_kind='hist')"
   ]
  },
  {
   "cell_type": "markdown",
   "id": "7c846b26",
   "metadata": {
    "execution": {
     "iopub.execute_input": "2025-02-04T12:01:21.277069Z",
     "iopub.status.busy": "2025-02-04T12:01:21.276626Z",
     "iopub.status.idle": "2025-02-04T12:01:21.285191Z",
     "shell.execute_reply": "2025-02-04T12:01:21.283555Z",
     "shell.execute_reply.started": "2025-02-04T12:01:21.277036Z"
    },
    "papermill": {
     "duration": 0.00505,
     "end_time": "2025-02-04T12:10:25.576683",
     "exception": false,
     "start_time": "2025-02-04T12:10:25.571633",
     "status": "completed"
    },
    "tags": []
   },
   "source": [
    "### 2. Dataset Preprocessing\n",
    "- **Drop columns** not relevant for the analysis (`RowNumber`, `CustomerId`, `Surname`)\n",
    "- **Missing values**: There are no missing values.\n",
    "- **Duplicates**: There are no duplicates.\n",
    "- **Outliers**: Therea are not relevant outliers.\n",
    "- **One-Hot encoding**: Performed for `Geography`.\n",
    "- **Binary encoding**: For feature `Gender`.\n",
    "\n",
    "**Training, Validation and Testing sets.**\n",
    "    Due to the class imbalance of the target variable (79.6% don't leave the bank and 20.4% leave the bank), I have performed a stratified sampling for splitting the data into the different sets.\n",
    "\n",
    "- **Training set**: 70%.\n",
    "- **Validation set**: 15%.\n",
    "- **Testing set**: 15%."
   ]
  },
  {
   "cell_type": "code",
   "execution_count": 4,
   "id": "9fd738d5",
   "metadata": {
    "execution": {
     "iopub.execute_input": "2025-02-04T12:10:25.588127Z",
     "iopub.status.busy": "2025-02-04T12:10:25.587672Z",
     "iopub.status.idle": "2025-02-04T12:10:25.621997Z",
     "shell.execute_reply": "2025-02-04T12:10:25.620771Z"
    },
    "papermill": {
     "duration": 0.042421,
     "end_time": "2025-02-04T12:10:25.624039",
     "exception": false,
     "start_time": "2025-02-04T12:10:25.581618",
     "status": "completed"
    },
    "tags": []
   },
   "outputs": [],
   "source": [
    "#Checking for duplicated customer IDs\n",
    "loan_data['CustomerId'].nunique()\n",
    "\n",
    "#dropping columns not relevant\n",
    "loan_data = loan_data.drop(['RowNumber', 'CustomerId', 'Surname'], axis=1)\n",
    "\n",
    "#Check for null values\n",
    "loan_data.isnull().values.any()\n",
    "\n",
    "# Create binary encoding for column Gender, with Female 1 and Male = 0\n",
    "loan_data['Gender'] = np.where(loan_data['Gender']=='Female', 1, 0)\n",
    "\n",
    "#One-Hot encoding for Geography feature\n",
    "encoder = OneHotEncoder(sparse_output=False).set_output(transform = 'pandas')\n",
    "geo_encoded = encoder.fit_transform(loan_data[['Geography']])\n",
    "loan_data = pd.concat([loan_data, geo_encoded], axis = 1).drop(columns = 'Geography')"
   ]
  },
  {
   "cell_type": "code",
   "execution_count": 5,
   "id": "443bd765",
   "metadata": {
    "execution": {
     "iopub.execute_input": "2025-02-04T12:10:25.636102Z",
     "iopub.status.busy": "2025-02-04T12:10:25.635694Z",
     "iopub.status.idle": "2025-02-04T12:10:25.655622Z",
     "shell.execute_reply": "2025-02-04T12:10:25.654242Z"
    },
    "papermill": {
     "duration": 0.028283,
     "end_time": "2025-02-04T12:10:25.657946",
     "exception": false,
     "start_time": "2025-02-04T12:10:25.629663",
     "status": "completed"
    },
    "tags": []
   },
   "outputs": [],
   "source": [
    "#Split the data between Training set, Validation set and Testing set.\n",
    "\n",
    "Y = loan_data['Exited']\n",
    "X = loan_data.drop(['Exited'], axis = 1)\n",
    "\n",
    "X_train, X_temp, Y_train, Y_temp = train_test_split(X, Y, test_size=0.3, stratify=Y, random_state=5)\n",
    "X_val, X_test, Y_val, Y_test = train_test_split(X_temp, Y_temp, test_size=0.5, stratify=Y_temp, random_state=5)"
   ]
  },
  {
   "cell_type": "markdown",
   "id": "293f233f",
   "metadata": {
    "papermill": {
     "duration": 0.004659,
     "end_time": "2025-02-04T12:10:25.667677",
     "exception": false,
     "start_time": "2025-02-04T12:10:25.663018",
     "status": "completed"
    },
    "tags": []
   },
   "source": [
    "### 3. Model Implementation\n",
    "\n",
    "1. `Create and fit the linear regression model`: I have created and trained the regression model using the training set.\n",
    "2. `Predict in the validation set`. We round the results to obtain the target variable in binary because we will use 0 or 1 for the classification.\n",
    "3. `Calculate accuracy`. We compare the validation set with its predicted values from the model.\n",
    "   We obtain an accuracy of 0.81, which is a very good result. This model has accurately classified 81% of the customers in the validation set based on the Exited variable.\n",
    "4. `Confusion matrix`. We use the confusion matrix to evaluate the performance. In this first model, I jus wanted to assess if the model  had a balanced performance. Even though the accuracy is very good, the Recall for the customers that leave the bank (Exited = 1) is very low at 12%. We cannot say that the model is great at detecting customers that will leave the bank. We have a problem of class imbalance. The precision is acceptable at 62% for the churn customers.\n",
    "\n",
    "| Class | Precision | Recall |\n",
    "| --- | --- | --- |\n",
    "| 0 | 0.81 | 0.98 |\n",
    "| 1 | 0.62 | 0.12 |\n",
    "\n",
    "5. `OLS model to exclude features that are not relevant for the classification`. We drop Tenure, NumOfProducts, HasCrCard and EstimatedSalary because the coefficients are not statistically significant from 0.\n",
    "6. `Repeat the previous steps`. After dropping the features, we split the dataset again in training, validation and testing sets. Then create the model, fit it with the training set and calculate the accuracy of the validation set.\n",
    "   The accuracy is 0.80.\n",
    "7. `Confusion matrix`. Looking at the confusion matrix, precision and recall per class are performing slightly worst for customers that Exited the bank. Removing the features has not improved the model but has improved interpretability for having less variables. I will progress with this model.\n",
    "\n",
    "| Class | Precision | Recall |\n",
    "| --- | --- | --- |\n",
    "| 0 | 0.81 | 0.98 |\n",
    "| 1 | 0.59 | 0.11 |\n",
    "\n",
    "8. `Model`.\n",
    "$$\\hat Y = -0.13391515 - 0.00012425X_1 + 0.0704884X_2 + 0.01129157X_3 + 0.00000038X_4 - 0.14023675X_5 - 0.03908499X_6 + 0.08056678X_7 - 0.04148179X_8 .$$\n",
    "\n",
    "   `X1`: CreditScore   \n",
    "   `X2`: Gender     \n",
    "   `X3`: Age   \n",
    "   `X4`: Balance   \n",
    "   `X5`: IsActiveMember   \n",
    "   `X6`: Geography_France   \n",
    "   `X7`: Geography_Germany   \n",
    "   `X8`: Geography_Spain\n",
    "\n",
    "    After analysing the coefficients, I decided to remove Geography_France and Geography_Spain because they have similar coefficients and only leave Geography_Germany. It will simplify the model without impacting any of the performance metrics.\n",
    "\n",
    "9. `Drop features, create and fit the model again.` The accuracy and the confusion matrix are the same as before. I will proceed with this model.\n",
    "\n",
    "10. `Model`.\n",
    "$$\\hat Y = -0.1730969 - 0.00011836X_1 + 0.07261186X_2 + 0.01112322X_3 + 0.0000004X_4 - 0.13938401X_5 + 0.11451368X_6.$$\n",
    "\n",
    "   `X1`: CreditScore   \n",
    "   `X2`: Gender     \n",
    "   `X3`: Age   \n",
    "   `X4`: Balance   \n",
    "   `X5`: IsActiveMember   \n",
    "   `X6`: Geography_Germany\n",
    "\n",
    "11. `Model interpretation`. Being gender female and from Germany increases the Churn probability of a customer. The same impact will have the Age and the Balance, higher values will have a higher probability of leaving the bank. In contrast, a higher credit score and being an active member will decrease the probability of churning.\n",
    "\n",
    "   For example, a customer with a credit ccore of 500, female, 50 years old, a balance of 100,000 euros, being an active member and not from Germany,  corresponding to the point $(500, 1, 50, 100000, 1, 0)$, would have a prediction of class `0` after rounding $\\hat Y$, meaning that the customer won't be leaving the bank. The result without rounding was 0.297. \n",
    "\n",
    "   If that customer had the same features but was from Germany and not an active member (point $(500, 1, 50, 100000, 0, 1)$), the predicted class would be `1`. Meaning that the customer will churn. The result without rounding was 0.551."
   ]
  },
  {
   "cell_type": "code",
   "execution_count": 6,
   "id": "1a50e6ad",
   "metadata": {
    "execution": {
     "iopub.execute_input": "2025-02-04T12:10:25.678981Z",
     "iopub.status.busy": "2025-02-04T12:10:25.678555Z",
     "iopub.status.idle": "2025-02-04T12:10:26.076607Z",
     "shell.execute_reply": "2025-02-04T12:10:26.075265Z"
    },
    "papermill": {
     "duration": 0.406408,
     "end_time": "2025-02-04T12:10:26.078993",
     "exception": false,
     "start_time": "2025-02-04T12:10:25.672585",
     "status": "completed"
    },
    "tags": []
   },
   "outputs": [
    {
     "name": "stdout",
     "output_type": "stream",
     "text": [
      "Accuracy of the model: 0.81\n"
     ]
    },
    {
     "data": {
      "image/png": "[encoded data removed]",
      "text/plain": [
       "<Figure size 640x480 with 2 Axes>"
      ]
     },
     "metadata": {},
     "output_type": "display_data"
    }
   ],
   "source": [
    "# Create and fit the linear regression model\n",
    "model = LinearRegression()\n",
    "model.fit(X_train, Y_train)\n",
    "\n",
    "# Predict on the validation set\n",
    "Y_pred = np.round(model.predict(X_val)) # rounded\n",
    "\n",
    "# Calculate accuracy\n",
    "accuracy = accuracy_score(Y_val, Y_pred)\n",
    "print(f\"Accuracy of the model: {accuracy:.2f}\")\n",
    "\n",
    "# Calculate confusion matrix\n",
    "confusion_matrix = pd.crosstab(Y_val, Y_pred, rownames=['Actual'], colnames=['Predicted'])\n",
    "sns.heatmap(confusion_matrix, annot=True, fmt='d')\n",
    "plt.show()"
   ]
  },
  {
   "cell_type": "code",
   "execution_count": 7,
   "id": "eadd8bc0",
   "metadata": {
    "execution": {
     "iopub.execute_input": "2025-02-04T12:10:26.091572Z",
     "iopub.status.busy": "2025-02-04T12:10:26.091147Z",
     "iopub.status.idle": "2025-02-04T12:10:26.122522Z",
     "shell.execute_reply": "2025-02-04T12:10:26.121097Z"
    },
    "papermill": {
     "duration": 0.039704,
     "end_time": "2025-02-04T12:10:26.124410",
     "exception": false,
     "start_time": "2025-02-04T12:10:26.084706",
     "status": "completed"
    },
    "tags": []
   },
   "outputs": [
    {
     "name": "stdout",
     "output_type": "stream",
     "text": [
      "                            OLS Regression Results                            \n",
      "==============================================================================\n",
      "Dep. Variable:                 Exited   R-squared:                       0.149\n",
      "Model:                            OLS   Adj. R-squared:                  0.148\n",
      "Method:                 Least Squares   F-statistic:                     111.1\n",
      "Date:                Tue, 04 Feb 2025   Prob (F-statistic):          7.17e-235\n",
      "Time:                        12:10:26   Log-Likelihood:                -3002.3\n",
      "No. Observations:                7000   AIC:                             6029.\n",
      "Df Residuals:                    6988   BIC:                             6111.\n",
      "Df Model:                          11                                         \n",
      "Covariance Type:            nonrobust                                         \n",
      "=====================================================================================\n",
      "                        coef    std err          t      P>|t|      [0.025      0.975]\n",
      "-------------------------------------------------------------------------------------\n",
      "const                -0.0697      0.030     -2.300      0.021      -0.129      -0.010\n",
      "CreditScore          -0.0001   4.59e-05     -2.540      0.011      -0.000   -2.66e-05\n",
      "Gender                0.0728      0.009      8.139      0.000       0.055       0.090\n",
      "Age                   0.0111      0.000     25.936      0.000       0.010       0.012\n",
      "Tenure               -0.0013      0.002     -0.865      0.387      -0.004       0.002\n",
      "Balance            3.474e-07   8.22e-08      4.226      0.000    1.86e-07    5.09e-07\n",
      "NumOfProducts        -0.0154      0.008     -1.905      0.057      -0.031       0.000\n",
      "HasCrCard            -0.0145      0.010     -1.484      0.138      -0.034       0.005\n",
      "IsActiveMember       -0.1393      0.009    -15.585      0.000      -0.157      -0.122\n",
      "EstimatedSalary    2.788e-08   7.76e-08      0.359      0.719   -1.24e-07     1.8e-07\n",
      "Geography_France     -0.0613      0.011     -5.527      0.000      -0.083      -0.040\n",
      "Geography_Germany     0.0554      0.014      4.099      0.000       0.029       0.082\n",
      "Geography_Spain      -0.0638      0.012     -5.259      0.000      -0.088      -0.040\n",
      "==============================================================================\n",
      "Omnibus:                     1048.367   Durbin-Watson:                   2.019\n",
      "Prob(Omnibus):                  0.000   Jarque-Bera (JB):             1593.876\n",
      "Skew:                           1.163   Prob(JB):                         0.00\n",
      "Kurtosis:                       3.226   Cond. No.                     7.74e+20\n",
      "==============================================================================\n",
      "\n",
      "Notes:\n",
      "[1] Standard Errors assume that the covariance matrix of the errors is correctly specified.\n",
      "[2] The smallest eigenvalue is 2.27e-28. This might indicate that there are\n",
      "strong multicollinearity problems or that the design matrix is singular.\n"
     ]
    }
   ],
   "source": [
    "#See if we can improve the model because there may be features that are not relevant for the classification\n",
    "\n",
    "X_sm = sm.add_constant(X_train)\n",
    "smodel = sm.OLS(Y_train, X_sm).fit()\n",
    "print(smodel.summary())"
   ]
  },
  {
   "cell_type": "code",
   "execution_count": 8,
   "id": "5099aaeb",
   "metadata": {
    "execution": {
     "iopub.execute_input": "2025-02-04T12:10:26.138813Z",
     "iopub.status.busy": "2025-02-04T12:10:26.138383Z",
     "iopub.status.idle": "2025-02-04T12:10:26.162932Z",
     "shell.execute_reply": "2025-02-04T12:10:26.161778Z"
    },
    "papermill": {
     "duration": 0.034201,
     "end_time": "2025-02-04T12:10:26.165254",
     "exception": false,
     "start_time": "2025-02-04T12:10:26.131053",
     "status": "completed"
    },
    "tags": []
   },
   "outputs": [],
   "source": [
    "#Dropping Tenure, NumOfProducts, HasCrCard and EstimatedSalary because the coefficients are not statistically significant from 0\n",
    "\n",
    "#Split the data between Training set, Validation set and Testing set.\n",
    "\n",
    "Y = loan_data['Exited']\n",
    "X = loan_data.drop(['Exited', 'Tenure', 'NumOfProducts','HasCrCard' , 'EstimatedSalary'], axis = 1)\n",
    "\n",
    "X_train, X_temp, Y_train, Y_temp = train_test_split(X, Y, test_size=0.3, stratify=Y, random_state=5)\n",
    "X_val, X_test, Y_val, Y_test = train_test_split(X_temp, Y_temp, test_size=0.5, stratify=Y_temp, random_state=5)\n",
    "\n",
    "# Create and fit the linear regression model\n",
    "model = LinearRegression()\n",
    "model.fit(X_train, Y_train)\n",
    "\n",
    "# Predict on the validation set\n",
    "Y_pred = np.round(model.predict(X_val)) # rounded"
   ]
  },
  {
   "cell_type": "code",
   "execution_count": 9,
   "id": "9b9d7749",
   "metadata": {
    "execution": {
     "iopub.execute_input": "2025-02-04T12:10:26.178728Z",
     "iopub.status.busy": "2025-02-04T12:10:26.178309Z",
     "iopub.status.idle": "2025-02-04T12:10:26.191948Z",
     "shell.execute_reply": "2025-02-04T12:10:26.190912Z"
    },
    "papermill": {
     "duration": 0.022361,
     "end_time": "2025-02-04T12:10:26.193596",
     "exception": false,
     "start_time": "2025-02-04T12:10:26.171235",
     "status": "completed"
    },
    "tags": []
   },
   "outputs": [
    {
     "data": {
      "text/html": [
       "<div>\n",
       "<style scoped>\n",
       "    .dataframe tbody tr th:only-of-type {\n",
       "        vertical-align: middle;\n",
       "    }\n",
       "\n",
       "    .dataframe tbody tr th {\n",
       "        vertical-align: top;\n",
       "    }\n",
       "\n",
       "    .dataframe thead th {\n",
       "        text-align: right;\n",
       "    }\n",
       "</style>\n",
       "<table border=\"1\" class=\"dataframe\">\n",
       "  <thead>\n",
       "    <tr style=\"text-align: right;\">\n",
       "      <th></th>\n",
       "      <th>CreditScore</th>\n",
       "      <th>Gender</th>\n",
       "      <th>Age</th>\n",
       "      <th>Balance</th>\n",
       "      <th>IsActiveMember</th>\n",
       "      <th>Geography_France</th>\n",
       "      <th>Geography_Germany</th>\n",
       "      <th>Geography_Spain</th>\n",
       "    </tr>\n",
       "  </thead>\n",
       "  <tbody>\n",
       "    <tr>\n",
       "      <th>0</th>\n",
       "      <td>619</td>\n",
       "      <td>1</td>\n",
       "      <td>42</td>\n",
       "      <td>0.00</td>\n",
       "      <td>1</td>\n",
       "      <td>1.0</td>\n",
       "      <td>0.0</td>\n",
       "      <td>0.0</td>\n",
       "    </tr>\n",
       "    <tr>\n",
       "      <th>1</th>\n",
       "      <td>608</td>\n",
       "      <td>1</td>\n",
       "      <td>41</td>\n",
       "      <td>83807.86</td>\n",
       "      <td>1</td>\n",
       "      <td>0.0</td>\n",
       "      <td>0.0</td>\n",
       "      <td>1.0</td>\n",
       "    </tr>\n",
       "    <tr>\n",
       "      <th>2</th>\n",
       "      <td>502</td>\n",
       "      <td>1</td>\n",
       "      <td>42</td>\n",
       "      <td>159660.80</td>\n",
       "      <td>0</td>\n",
       "      <td>1.0</td>\n",
       "      <td>0.0</td>\n",
       "      <td>0.0</td>\n",
       "    </tr>\n",
       "    <tr>\n",
       "      <th>3</th>\n",
       "      <td>699</td>\n",
       "      <td>1</td>\n",
       "      <td>39</td>\n",
       "      <td>0.00</td>\n",
       "      <td>0</td>\n",
       "      <td>1.0</td>\n",
       "      <td>0.0</td>\n",
       "      <td>0.0</td>\n",
       "    </tr>\n",
       "    <tr>\n",
       "      <th>4</th>\n",
       "      <td>850</td>\n",
       "      <td>1</td>\n",
       "      <td>43</td>\n",
       "      <td>125510.82</td>\n",
       "      <td>1</td>\n",
       "      <td>0.0</td>\n",
       "      <td>0.0</td>\n",
       "      <td>1.0</td>\n",
       "    </tr>\n",
       "  </tbody>\n",
       "</table>\n",
       "</div>"
      ],
      "text/plain": [
       "   CreditScore  Gender  Age    Balance  IsActiveMember  Geography_France  \\\n",
       "0          619       1   42       0.00               1               1.0   \n",
       "1          608       1   41   83807.86               1               0.0   \n",
       "2          502       1   42  159660.80               0               1.0   \n",
       "3          699       1   39       0.00               0               1.0   \n",
       "4          850       1   43  125510.82               1               0.0   \n",
       "\n",
       "   Geography_Germany  Geography_Spain  \n",
       "0                0.0              0.0  \n",
       "1                0.0              1.0  \n",
       "2                0.0              0.0  \n",
       "3                0.0              0.0  \n",
       "4                0.0              1.0  "
      ]
     },
     "execution_count": 9,
     "metadata": {},
     "output_type": "execute_result"
    }
   ],
   "source": [
    "X.head()"
   ]
  },
  {
   "cell_type": "code",
   "execution_count": 10,
   "id": "9a71a192",
   "metadata": {
    "execution": {
     "iopub.execute_input": "2025-02-04T12:10:26.206736Z",
     "iopub.status.busy": "2025-02-04T12:10:26.206388Z",
     "iopub.status.idle": "2025-02-04T12:10:26.413117Z",
     "shell.execute_reply": "2025-02-04T12:10:26.411852Z"
    },
    "papermill": {
     "duration": 0.215469,
     "end_time": "2025-02-04T12:10:26.415069",
     "exception": false,
     "start_time": "2025-02-04T12:10:26.199600",
     "status": "completed"
    },
    "tags": []
   },
   "outputs": [
    {
     "name": "stdout",
     "output_type": "stream",
     "text": [
      "Accuracy of the model: 0.80\n"
     ]
    },
    {
     "data": {
      "image/png": "[encoded data removed]",
      "text/plain": [
       "<Figure size 640x480 with 2 Axes>"
      ]
     },
     "metadata": {},
     "output_type": "display_data"
    }
   ],
   "source": [
    "# Calculate accuracy\n",
    "accuracy = accuracy_score(Y_val, Y_pred)\n",
    "print(f\"Accuracy of the model: {accuracy:.2f}\")\n",
    "\n",
    "# Calculate confusion matrix\n",
    "confusion_matrix = pd.crosstab(Y_val, Y_pred, rownames=['Actual'], colnames=['Predicted'])\n",
    "sns.heatmap(confusion_matrix, annot=True, fmt='d')\n",
    "plt.show()"
   ]
  },
  {
   "cell_type": "code",
   "execution_count": 11,
   "id": "b462e596",
   "metadata": {
    "execution": {
     "iopub.execute_input": "2025-02-04T12:10:26.429111Z",
     "iopub.status.busy": "2025-02-04T12:10:26.428712Z",
     "iopub.status.idle": "2025-02-04T12:10:26.435178Z",
     "shell.execute_reply": "2025-02-04T12:10:26.433917Z"
    },
    "papermill": {
     "duration": 0.01562,
     "end_time": "2025-02-04T12:10:26.436989",
     "exception": false,
     "start_time": "2025-02-04T12:10:26.421369",
     "status": "completed"
    },
    "tags": []
   },
   "outputs": [
    {
     "name": "stdout",
     "output_type": "stream",
     "text": [
      "[-0.00011816  0.07258121  0.01112416  0.0000004  -0.1393453  -0.03709787\n",
      "  0.07660857 -0.0395107 ]\n",
      "-0.13537926640215378\n"
     ]
    }
   ],
   "source": [
    "# Compute coefficients\n",
    "np.set_printoptions(suppress=True)\n",
    "coef = model.coef_\n",
    "intercept = model.intercept_\n",
    "print(coef)\n",
    "print(intercept)"
   ]
  },
  {
   "cell_type": "code",
   "execution_count": 12,
   "id": "bbf8efcd",
   "metadata": {
    "execution": {
     "iopub.execute_input": "2025-02-04T12:10:26.451810Z",
     "iopub.status.busy": "2025-02-04T12:10:26.451362Z",
     "iopub.status.idle": "2025-02-04T12:10:26.670694Z",
     "shell.execute_reply": "2025-02-04T12:10:26.669427Z"
    },
    "papermill": {
     "duration": 0.228609,
     "end_time": "2025-02-04T12:10:26.672614",
     "exception": false,
     "start_time": "2025-02-04T12:10:26.444005",
     "status": "completed"
    },
    "tags": []
   },
   "outputs": [
    {
     "name": "stdout",
     "output_type": "stream",
     "text": [
      "Accuracy of the model: 0.80\n"
     ]
    },
    {
     "data": {
      "image/png": "[encoded data removed]",
      "text/plain": [
       "<Figure size 640x480 with 2 Axes>"
      ]
     },
     "metadata": {},
     "output_type": "display_data"
    },
    {
     "name": "stdout",
     "output_type": "stream",
     "text": [
      "[-0.00011836  0.07261186  0.01112322  0.0000004  -0.13938401  0.11451368]\n",
      "-0.17309688446999047\n"
     ]
    }
   ],
   "source": [
    "#Dropping France and Spain Geographies\n",
    "\n",
    "Y = loan_data['Exited']\n",
    "X = loan_data.drop(['Exited', 'Tenure', 'NumOfProducts','HasCrCard' , 'EstimatedSalary', 'Geography_France', 'Geography_Spain'], axis = 1)\n",
    "\n",
    "X_train, X_temp, Y_train, Y_temp = train_test_split(X, Y, test_size=0.3, stratify=Y, random_state=5)\n",
    "X_val, X_test, Y_val, Y_test = train_test_split(X_temp, Y_temp, test_size=0.5, stratify=Y_temp, random_state=5)\n",
    "\n",
    "# Create and fit the linear regression model\n",
    "model = LinearRegression()\n",
    "model.fit(X_train, Y_train)\n",
    "\n",
    "# Predict on the validation set\n",
    "Y_pred = np.round(model.predict(X_val)) # rounded\n",
    "\n",
    "# Calculate accuracy\n",
    "accuracy = accuracy_score(Y_val, Y_pred)\n",
    "print(f\"Accuracy of the model: {accuracy:.2f}\")\n",
    "\n",
    "# Calculate confusion matrix\n",
    "confusion_matrix = pd.crosstab(Y_val, Y_pred, rownames=['Actual'], colnames=['Predicted'])\n",
    "sns.heatmap(confusion_matrix, annot=True, fmt='d')\n",
    "plt.show()\n",
    "\n",
    "# Compute coefficients\n",
    "np.set_printoptions(suppress=True)\n",
    "coef = model.coef_\n",
    "intercept = model.intercept_\n",
    "print(coef)\n",
    "print(intercept)"
   ]
  },
  {
   "cell_type": "code",
   "execution_count": 13,
   "id": "9ccef5c7",
   "metadata": {
    "execution": {
     "iopub.execute_input": "2025-02-04T12:10:26.687478Z",
     "iopub.status.busy": "2025-02-04T12:10:26.687106Z",
     "iopub.status.idle": "2025-02-04T12:10:26.697113Z",
     "shell.execute_reply": "2025-02-04T12:10:26.695951Z"
    },
    "papermill": {
     "duration": 0.019241,
     "end_time": "2025-02-04T12:10:26.698789",
     "exception": false,
     "start_time": "2025-02-04T12:10:26.679548",
     "status": "completed"
    },
    "tags": []
   },
   "outputs": [
    {
     "name": "stdout",
     "output_type": "stream",
     "text": [
      "[0.29714546]\n",
      "[0.55104315]\n"
     ]
    },
    {
     "name": "stderr",
     "output_type": "stream",
     "text": [
      "/usr/local/lib/python3.10/dist-packages/sklearn/base.py:439: UserWarning: X does not have valid feature names, but LinearRegression was fitted with feature names\n",
      "  warnings.warn(\n",
      "/usr/local/lib/python3.10/dist-packages/sklearn/base.py:439: UserWarning: X does not have valid feature names, but LinearRegression was fitted with feature names\n",
      "  warnings.warn(\n"
     ]
    }
   ],
   "source": [
    "#predicting a customer\n",
    "\n",
    "point1_pred = model.predict([[500, 1, 50, 100000, 1, 0]])\n",
    "print(point1_pred)\n",
    "point2_pred = model.predict([[500, 1, 50, 100000, 0, 1]])\n",
    "print(point2_pred)"
   ]
  },
  {
   "cell_type": "code",
   "execution_count": 14,
   "id": "0a5377b5",
   "metadata": {
    "execution": {
     "iopub.execute_input": "2025-02-04T12:10:26.713957Z",
     "iopub.status.busy": "2025-02-04T12:10:26.713559Z",
     "iopub.status.idle": "2025-02-04T12:10:26.741663Z",
     "shell.execute_reply": "2025-02-04T12:10:26.740447Z"
    },
    "papermill": {
     "duration": 0.037949,
     "end_time": "2025-02-04T12:10:26.743645",
     "exception": false,
     "start_time": "2025-02-04T12:10:26.705696",
     "status": "completed"
    },
    "tags": []
   },
   "outputs": [],
   "source": [
    "# Fit the linear regression with the training + validation set\n",
    "X_train_val = pd.concat((X_train, X_val))\n",
    "Y_train_val = pd.concat((Y_train, Y_val))\n",
    "\n",
    "model = LinearRegression()\n",
    "model.fit(X_train_val, Y_train_val)\n",
    "\n",
    "# Predict on the testing set\n",
    "Y_pred = np.round(model.predict(X_test)) # rounded"
   ]
  },
  {
   "cell_type": "markdown",
   "id": "eea6b8a1",
   "metadata": {
    "papermill": {
     "duration": 0.006627,
     "end_time": "2025-02-04T12:10:26.757275",
     "exception": false,
     "start_time": "2025-02-04T12:10:26.750648",
     "status": "completed"
    },
    "tags": []
   },
   "source": [
    "### 4. Model Evaluation\n",
    "\n",
    "After choosing the model, I will fit it with the union of the training and validation sets.\n",
    "Then I will evaluate the testing set.\n",
    "The evaluation metrics are in the table below.\n",
    "\n",
    "| Class | Precision | Recall |\n",
    "| --- | --- | --- |\n",
    "| 0 | 0.81 | 0.98 |\n",
    "| 1 | 0.59 | 0.13 |\n",
    "| Macro avg | 0.70 | 0.55 |\n",
    "| Weighted avg | 0.77 | 0.80|\n",
    "| Accuracy 0.80 |\n",
    "\n",
    "- **Overall performance**   \n",
    "The accuracy is pretty good at 80%, that means that we didn't overfit or underfit the data and the model performs well in unseen data, at the same level as our validation set.   \n",
    "The macro avg of recall is low at 55%, and that's due to class imbalance. The recall is very good (98%) for customers that stay in the bank and very low for customers that churn (13%).\n",
    "\n",
    "- `Class 0. Customers that don't leave the bank`  \n",
    "The precision is not great at 81% if we consider that customers that don't leave the bank account for 79.6% of the customers, but at least the recall is pretty good at 98%. \n",
    "\n",
    "- `Class 1. Customers that churn`   \n",
    "The recall for Churn customers is better than in the validation set, from 11% to 13%. That's very positive as it means that we're able to identify more customers that will exit the bank. The precision of 59% is the same we had in our validation set.\n",
    "\n",
    "- **Evaluation**   \n",
    "The model is effective at classifying customers that will stay in the bank with a very high recall. But due to the poor recall of identifying churn customers, I conclude that Linear Regression does not perform very well in this case as a classifier.   \n",
    "Even though the model has a low recall at identifying customers that will churn, a 13% still is a good number for the bank trying to retain these customers through some marketing campaigns or other initiatives, considering that the accuracy is acceptable at 59%.   \n",
    "Due to this limited performance, I would recommend to try other models for classification to improve these performance metrics.\n",
    "I will a create a Logistic Regression model."
   ]
  },
  {
   "cell_type": "code",
   "execution_count": 15,
   "id": "4363ce07",
   "metadata": {
    "execution": {
     "iopub.execute_input": "2025-02-04T12:10:26.772224Z",
     "iopub.status.busy": "2025-02-04T12:10:26.771815Z",
     "iopub.status.idle": "2025-02-04T12:10:27.020585Z",
     "shell.execute_reply": "2025-02-04T12:10:27.019230Z"
    },
    "papermill": {
     "duration": 0.258572,
     "end_time": "2025-02-04T12:10:27.022573",
     "exception": false,
     "start_time": "2025-02-04T12:10:26.764001",
     "status": "completed"
    },
    "tags": []
   },
   "outputs": [
    {
     "data": {
      "image/png": "[encoded data removed]",
      "text/plain": [
       "<Figure size 640x480 with 2 Axes>"
      ]
     },
     "metadata": {},
     "output_type": "display_data"
    },
    {
     "name": "stdout",
     "output_type": "stream",
     "text": [
      "              precision    recall  f1-score   support\n",
      "\n",
      "           0       0.80      0.97      0.88      1194\n",
      "           1       0.35      0.06      0.10       306\n",
      "\n",
      "    accuracy                           0.79      1500\n",
      "   macro avg       0.58      0.51      0.49      1500\n",
      "weighted avg       0.71      0.79      0.72      1500\n",
      "\n",
      "Accuracy of the model: 0.78\n"
     ]
    }
   ],
   "source": [
    "# Create and fit the logistic regression model\n",
    "model = LogisticRegression(max_iter = 400)\n",
    "model.fit(X_train_val, Y_train_val)\n",
    "\n",
    "# Predict on the testing set\n",
    "Y_pred = np.round(model.predict(X_test)) # rounded\n",
    "\n",
    "# Calculate confusion matrix\n",
    "confusion_matrix = pd.crosstab(Y_test, Y_pred, rownames=['Actual'], colnames=['Predicted'])\n",
    "sns.heatmap(confusion_matrix, annot=True, fmt='d')\n",
    "plt.show()\n",
    "\n",
    "# Calculate Classification Report\n",
    "acc = classification_report(Y_test, Y_pred)\n",
    "print(acc)\n",
    "\n",
    "# Calculate accuracy\n",
    "accuracy = accuracy_score(Y_val, Y_pred)\n",
    "print(f\"Accuracy of the model: {accuracy:.2f}\")"
   ]
  },
  {
   "cell_type": "markdown",
   "id": "cdd19cdf",
   "metadata": {
    "papermill": {
     "duration": 0.007214,
     "end_time": "2025-02-04T12:10:27.037560",
     "exception": false,
     "start_time": "2025-02-04T12:10:27.030346",
     "status": "completed"
    },
    "tags": []
   },
   "source": [
    "### 6. Challenges\n",
    "\n",
    "- **Feature selection and feature engineering**   \n",
    "Trying to find the balance between interpretability and model performance has been a challenge. But removing unnecessary features is usually a good option. I have removed them based on their significance after running an OLS model, and also by testing the accuracy after removing certain features. Not all the trials I did are present in the code. Simplifying also the Geography (country) into just one class was a good solution to improve interpretability without compromising performance metrics.\n",
    "I would have liked to experiment more through feature engineering, like creating balance brackets or indicators for zero balances, but due to time constraints I could not deliver that."
   ]
  }
 ],
 "metadata": {
  "kaggle": {
   "accelerator": "none",
   "dataSources": [
    {
     "datasetId": 2008274,
     "sourceId": 3322096,
     "sourceType": "datasetVersion"
    }
   ],
   "dockerImageVersionId": 30839,
   "isGpuEnabled": false,
   "isInternetEnabled": false,
   "language": "python",
   "sourceType": "notebook"
  },
  "kernelspec": {
   "display_name": "Python 3",
   "language": "python",
   "name": "python3"
  },
  "language_info": {
   "codemirror_mode": {
    "name": "ipython",
    "version": 3
   },
   "file_extension": ".py",
   "mimetype": "text/x-python",
   "name": "python",
   "nbconvert_exporter": "python",
   "pygments_lexer": "ipython3",
   "version": "3.10.12"
  },
  "papermill": {
   "default_parameters": {},
   "duration": 11.805617,
   "end_time": "2025-02-04T12:10:27.968072",
   "environment_variables": {},
   "exception": null,
   "input_path": "__notebook__.ipynb",
   "output_path": "__notebook__.ipynb",
   "parameters": {},
   "start_time": "2025-02-04T12:10:16.162455",
   "version": "2.6.0"
  }
 },
 "nbformat": 4,
 "nbformat_minor": 5
}
